{
 "cells": [
  {
   "cell_type": "code",
   "execution_count": 1,
   "id": "379c65f7",
   "metadata": {
    "_cell_guid": "b1076dfc-b9ad-4769-8c92-a6c4dae69d19",
    "_uuid": "8f2839f25d086af736a60e9eeb907d3b93b6e0e5",
    "execution": {
     "iopub.execute_input": "2023-10-05T13:22:53.967250Z",
     "iopub.status.busy": "2023-10-05T13:22:53.966792Z",
     "iopub.status.idle": "2023-10-05T13:22:54.429742Z",
     "shell.execute_reply": "2023-10-05T13:22:54.428313Z"
    },
    "papermill": {
     "duration": 0.471065,
     "end_time": "2023-10-05T13:22:54.432609",
     "exception": false,
     "start_time": "2023-10-05T13:22:53.961544",
     "status": "completed"
    },
    "tags": []
   },
   "outputs": [],
   "source": [
    "#Gadhiya Jalpa\n",
    "#216270307103\n",
    "'''Write a Pandas program to implement following operation\n",
    " to create a dataframe from a dictionary and display it\n",
    " to sort the DataFrame first by 'name' in ascending order\n",
    " to delete the one specific column from the DataFrame\n",
    " to write a DataFrame to CSV file using tab separator'''\n",
    "import numpy as np \n",
    "import pandas as pd"
   ]
  },
  {
   "cell_type": "code",
   "execution_count": 2,
   "id": "7e973a14",
   "metadata": {
    "execution": {
     "iopub.execute_input": "2023-10-05T13:22:54.441955Z",
     "iopub.status.busy": "2023-10-05T13:22:54.441327Z",
     "iopub.status.idle": "2023-10-05T13:22:54.463752Z",
     "shell.execute_reply": "2023-10-05T13:22:54.462417Z"
    },
    "papermill": {
     "duration": 0.031999,
     "end_time": "2023-10-05T13:22:54.467108",
     "exception": false,
     "start_time": "2023-10-05T13:22:54.435109",
     "status": "completed"
    },
    "tags": []
   },
   "outputs": [
    {
     "name": "stdout",
     "output_type": "stream",
     "text": [
      "Dataframe is:\n",
      "    rollno   name    address\n",
      "0       1  sayam    ranavav\n",
      "1       2   sita  porbandar\n",
      "2       3  mayur   kutiyana\n",
      "3       4    raj      morbi\n",
      "4       5  mansi    ranavav\n"
     ]
    }
   ],
   "source": [
    "#Gadhiya Jalpa\n",
    "#216270307103\n",
    "'''Write a Pandas program to implement following operation\n",
    " to create a dataframe from a dictionary and display it'''\n",
    "\n",
    "data=pd.DataFrame({'rollno':[1,2,3,4,5],'name':['sayam','sita','mayur','raj','mansi'],'address':['ranavav','porbandar','kutiyana','morbi','ranavav']})\n",
    "\n",
    "print(\"Dataframe is:\\n\",data)"
   ]
  },
  {
   "cell_type": "code",
   "execution_count": 3,
   "id": "ade0f8fa",
   "metadata": {
    "execution": {
     "iopub.execute_input": "2023-10-05T13:22:54.474127Z",
     "iopub.status.busy": "2023-10-05T13:22:54.473038Z",
     "iopub.status.idle": "2023-10-05T13:22:54.491038Z",
     "shell.execute_reply": "2023-10-05T13:22:54.489445Z"
    },
    "papermill": {
     "duration": 0.02398,
     "end_time": "2023-10-05T13:22:54.493458",
     "exception": false,
     "start_time": "2023-10-05T13:22:54.469478",
     "status": "completed"
    },
    "tags": []
   },
   "outputs": [
    {
     "name": "stdout",
     "output_type": "stream",
     "text": [
      "   rollno   name    address\n",
      "2       3  mayur   kutiyana\n",
      "3       4    raj      morbi\n",
      "1       2   sita  porbandar\n",
      "0       1  sayam    ranavav\n",
      "4       5  mansi    ranavav\n"
     ]
    }
   ],
   "source": [
    "#Gadhiya Jalpa\n",
    "#216270307103\n",
    "'''Write a Pandas program to implement following operation\n",
    " to sort the DataFrame first by 'name' in ascending order'''\n",
    "\n",
    "data_new=data.sort_values(by=['address'],ascending=True)\n",
    "print(data_new)"
   ]
  },
  {
   "cell_type": "code",
   "execution_count": 4,
   "id": "eaf08169",
   "metadata": {
    "execution": {
     "iopub.execute_input": "2023-10-05T13:22:54.500536Z",
     "iopub.status.busy": "2023-10-05T13:22:54.499568Z",
     "iopub.status.idle": "2023-10-05T13:22:54.510525Z",
     "shell.execute_reply": "2023-10-05T13:22:54.509283Z"
    },
    "papermill": {
     "duration": 0.01695,
     "end_time": "2023-10-05T13:22:54.512847",
     "exception": false,
     "start_time": "2023-10-05T13:22:54.495897",
     "status": "completed"
    },
    "tags": []
   },
   "outputs": [
    {
     "name": "stdout",
     "output_type": "stream",
     "text": [
      "   rollno   name\n",
      "0       1  sayam\n",
      "1       2   sita\n",
      "2       3  mayur\n",
      "3       4    raj\n",
      "4       5  mansi\n"
     ]
    }
   ],
   "source": [
    "#Gadhiya Jalpa\n",
    "#216270307103\n",
    "'''Write a Pandas program to implement following operation\n",
    "to delete the one specific column from the DataFrame'''\n",
    "\n",
    "del data['address']\n",
    "print(data)"
   ]
  },
  {
   "cell_type": "code",
   "execution_count": 5,
   "id": "a5b5cd23",
   "metadata": {
    "execution": {
     "iopub.execute_input": "2023-10-05T13:22:54.519288Z",
     "iopub.status.busy": "2023-10-05T13:22:54.518934Z",
     "iopub.status.idle": "2023-10-05T13:22:54.536486Z",
     "shell.execute_reply": "2023-10-05T13:22:54.534737Z"
    },
    "papermill": {
     "duration": 0.023686,
     "end_time": "2023-10-05T13:22:54.538889",
     "exception": false,
     "start_time": "2023-10-05T13:22:54.515203",
     "status": "completed"
    },
    "tags": []
   },
   "outputs": [
    {
     "name": "stdout",
     "output_type": "stream",
     "text": [
      "   rollno   name  sem    address\n",
      "0       1  sayam    3    ranavav\n",
      "1       2   sita    4  porbandar\n",
      "2       3  mayur    2   kutiyana\n",
      "3       4    raj    5      morbi\n",
      "4       5  mansi    1    ranavav\n"
     ]
    }
   ],
   "source": [
    "#Gadhiya Jalpa\n",
    "#216270307103\n",
    "'''Write a Pandas program to implement following operation\n",
    "to write a DataFrame to CSV file using tab separator'''\n",
    "\n",
    "dataframe=pd.DataFrame({'rollno':[1,2,3,4,5],'name':['sayam','sita','mayur','raj','mansi'],'sem':[3,4,2,5,1],\n",
    "                   'address':['ranavav','porbandar','kutiyana','morbi','ranavav']})\n",
    "\n",
    "print(dataframe)\n",
    "\n",
    "file_path=\"student_dataset.csv\"\n",
    "\n",
    "dataframe.to_csv(file_path,index=False)"
   ]
  }
 ],
 "metadata": {
  "kernelspec": {
   "display_name": "Python 3",
   "language": "python",
   "name": "python3"
  },
  "language_info": {
   "codemirror_mode": {
    "name": "ipython",
    "version": 3
   },
   "file_extension": ".py",
   "mimetype": "text/x-python",
   "name": "python",
   "nbconvert_exporter": "python",
   "pygments_lexer": "ipython3",
   "version": "3.10.12"
  },
  "papermill": {
   "default_parameters": {},
   "duration": 4.568557,
   "end_time": "2023-10-05T13:22:55.063321",
   "environment_variables": {},
   "exception": null,
   "input_path": "__notebook__.ipynb",
   "output_path": "__notebook__.ipynb",
   "parameters": {},
   "start_time": "2023-10-05T13:22:50.494764",
   "version": "2.4.0"
  }
 },
 "nbformat": 4,
 "nbformat_minor": 5
}
