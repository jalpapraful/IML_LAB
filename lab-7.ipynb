{
 "cells": [
  {
   "cell_type": "code",
   "execution_count": 1,
   "id": "91bde8a2",
   "metadata": {
    "_cell_guid": "b1076dfc-b9ad-4769-8c92-a6c4dae69d19",
    "_uuid": "8f2839f25d086af736a60e9eeb907d3b93b6e0e5",
    "execution": {
     "iopub.execute_input": "2023-10-06T07:30:12.238400Z",
     "iopub.status.busy": "2023-10-06T07:30:12.237622Z",
     "iopub.status.idle": "2023-10-06T07:30:12.600711Z",
     "shell.execute_reply": "2023-10-06T07:30:12.599782Z"
    },
    "papermill": {
     "duration": 0.370289,
     "end_time": "2023-10-06T07:30:12.603303",
     "exception": false,
     "start_time": "2023-10-06T07:30:12.233014",
     "status": "completed"
    },
    "tags": []
   },
   "outputs": [],
   "source": [
    "#Gadhiya Jalpa\n",
    "#216270307103\n",
    "'''Write a Pandas program to implement following operation\n",
    " to create a dataframe from a dictionary and display it\n",
    " to sort the DataFrame first by 'name' in ascending order\n",
    " to delete the one specific column from the DataFrame\n",
    " to write a DataFrame to CSV file using tab separator'''\n",
    "import numpy as np \n",
    "import pandas as pd"
   ]
  },
  {
   "cell_type": "code",
   "execution_count": 2,
   "id": "cd881c7d",
   "metadata": {
    "execution": {
     "iopub.execute_input": "2023-10-06T07:30:12.611224Z",
     "iopub.status.busy": "2023-10-06T07:30:12.610766Z",
     "iopub.status.idle": "2023-10-06T07:30:12.628511Z",
     "shell.execute_reply": "2023-10-06T07:30:12.627422Z"
    },
    "papermill": {
     "duration": 0.024947,
     "end_time": "2023-10-06T07:30:12.630696",
     "exception": false,
     "start_time": "2023-10-06T07:30:12.605749",
     "status": "completed"
    },
    "tags": []
   },
   "outputs": [
    {
     "name": "stdout",
     "output_type": "stream",
     "text": [
      "Dataframe is:\n",
      "    no carname   color\n",
      "0   1  Susuki    pink\n",
      "1   2    Tata   black\n",
      "2   3  Xuv300   white\n",
      "3   4  Maruti    blue\n",
      "4   5     Bmw  yellow\n"
     ]
    }
   ],
   "source": [
    "#Gadhiya Jalpa\n",
    "#216270307103\n",
    "'''Write a Pandas program to implement following operation\n",
    " to create a dataframe from a dictionary and display it'''\n",
    "\n",
    "data=pd.DataFrame({'no':[1,2,3,4,5],'carname':['Susuki','Tata','Xuv300','Maruti','Bmw'],'color':['pink','black','white','blue','yellow']})\n",
    "\n",
    "print(\"Dataframe is:\\n\",data)"
   ]
  },
  {
   "cell_type": "code",
   "execution_count": 3,
   "id": "dfa2ae50",
   "metadata": {
    "execution": {
     "iopub.execute_input": "2023-10-06T07:30:12.636456Z",
     "iopub.status.busy": "2023-10-06T07:30:12.636109Z",
     "iopub.status.idle": "2023-10-06T07:30:12.650921Z",
     "shell.execute_reply": "2023-10-06T07:30:12.649724Z"
    },
    "papermill": {
     "duration": 0.020195,
     "end_time": "2023-10-06T07:30:12.652976",
     "exception": false,
     "start_time": "2023-10-06T07:30:12.632781",
     "status": "completed"
    },
    "tags": []
   },
   "outputs": [
    {
     "name": "stdout",
     "output_type": "stream",
     "text": [
      "   no carname   color\n",
      "4   5     Bmw  yellow\n",
      "3   4  Maruti    blue\n",
      "0   1  Susuki    pink\n",
      "1   2    Tata   black\n",
      "2   3  Xuv300   white\n"
     ]
    }
   ],
   "source": [
    "#Gadhiya Jalpa\n",
    "#216270307103\n",
    "'''Write a Pandas program to implement following operation\n",
    " to sort the DataFrame first by 'name' in ascending order'''\n",
    "\n",
    "data_new=data.sort_values(by=['carname'],ascending=True)\n",
    "print(data_new)"
   ]
  },
  {
   "cell_type": "code",
   "execution_count": 4,
   "id": "1de9ef83",
   "metadata": {
    "execution": {
     "iopub.execute_input": "2023-10-06T07:30:12.658642Z",
     "iopub.status.busy": "2023-10-06T07:30:12.658269Z",
     "iopub.status.idle": "2023-10-06T07:30:12.666489Z",
     "shell.execute_reply": "2023-10-06T07:30:12.665525Z"
    },
    "papermill": {
     "duration": 0.013494,
     "end_time": "2023-10-06T07:30:12.668671",
     "exception": false,
     "start_time": "2023-10-06T07:30:12.655177",
     "status": "completed"
    },
    "tags": []
   },
   "outputs": [
    {
     "name": "stdout",
     "output_type": "stream",
     "text": [
      "   no carname\n",
      "0   1  Susuki\n",
      "1   2    Tata\n",
      "2   3  Xuv300\n",
      "3   4  Maruti\n",
      "4   5     Bmw\n"
     ]
    }
   ],
   "source": [
    "#Gadhiya Jalpa\n",
    "#216270307103\n",
    "'''Write a Pandas program to implement following operation\n",
    "to delete the one specific column from the DataFrame'''\n",
    "\n",
    "del data['color']\n",
    "print(data)"
   ]
  },
  {
   "cell_type": "code",
   "execution_count": 5,
   "id": "7e2d0e3f",
   "metadata": {
    "execution": {
     "iopub.execute_input": "2023-10-06T07:30:12.674609Z",
     "iopub.status.busy": "2023-10-06T07:30:12.674274Z",
     "iopub.status.idle": "2023-10-06T07:30:12.686882Z",
     "shell.execute_reply": "2023-10-06T07:30:12.685429Z"
    },
    "papermill": {
     "duration": 0.018658,
     "end_time": "2023-10-06T07:30:12.689608",
     "exception": false,
     "start_time": "2023-10-06T07:30:12.670950",
     "status": "completed"
    },
    "tags": []
   },
   "outputs": [
    {
     "name": "stdout",
     "output_type": "stream",
     "text": [
      "   no carname   color\n",
      "0   1  Susuki    pink\n",
      "1   2    Tata   black\n",
      "2   3  Xuv300   white\n",
      "3   4  Maruti    blue\n",
      "4   5     Bmw  yellow\n"
     ]
    }
   ],
   "source": [
    "#Gadhiya Jalpa\n",
    "#216270307103\n",
    "'''Write a Pandas program to implement following operation\n",
    "to write a DataFrame to CSV file using tab separator'''\n",
    "\n",
    "dataframe=pd.DataFrame({'no':[1,2,3,4,5],'carname':['Susuki','Tata','Xuv300','Maruti','Bmw'],'color':['pink','black','white','blue','yellow']})\n",
    "\n",
    "\n",
    "print(dataframe)\n",
    "\n",
    "file_path=\"car_dataset.csv\"\n",
    "\n",
    "dataframe.to_csv(file_path,index=False)"
   ]
  }
 ],
 "metadata": {
  "kernelspec": {
   "display_name": "Python 3",
   "language": "python",
   "name": "python3"
  },
  "language_info": {
   "codemirror_mode": {
    "name": "ipython",
    "version": 3
   },
   "file_extension": ".py",
   "mimetype": "text/x-python",
   "name": "python",
   "nbconvert_exporter": "python",
   "pygments_lexer": "ipython3",
   "version": "3.10.12"
  },
  "papermill": {
   "default_parameters": {},
   "duration": 3.925592,
   "end_time": "2023-10-06T07:30:13.110883",
   "environment_variables": {},
   "exception": null,
   "input_path": "__notebook__.ipynb",
   "output_path": "__notebook__.ipynb",
   "parameters": {},
   "start_time": "2023-10-06T07:30:09.185291",
   "version": "2.4.0"
  }
 },
 "nbformat": 4,
 "nbformat_minor": 5
}
