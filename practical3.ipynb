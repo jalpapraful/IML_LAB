{
 "cells": [
  {
   "cell_type": "code",
   "execution_count": 1,
   "id": "7e0e8818",
   "metadata": {
    "_cell_guid": "b1076dfc-b9ad-4769-8c92-a6c4dae69d19",
    "_uuid": "8f2839f25d086af736a60e9eeb907d3b93b6e0e5",
    "execution": {
     "iopub.execute_input": "2023-09-11T09:36:17.492884Z",
     "iopub.status.busy": "2023-09-11T09:36:17.492360Z",
     "iopub.status.idle": "2023-09-11T09:36:17.965914Z",
     "shell.execute_reply": "2023-09-11T09:36:17.964104Z"
    },
    "papermill": {
     "duration": 0.486069,
     "end_time": "2023-09-11T09:36:17.969879",
     "exception": false,
     "start_time": "2023-09-11T09:36:17.483810",
     "status": "completed"
    },
    "tags": []
   },
   "outputs": [],
   "source": [
    "#GADHIYA JALPA\n",
    "#216270307103\n",
    "\n",
    "import numpy as np \n",
    "import pandas as pd"
   ]
  },
  {
   "cell_type": "code",
   "execution_count": 2,
   "id": "fcb64f54",
   "metadata": {
    "execution": {
     "iopub.execute_input": "2023-09-11T09:36:17.981094Z",
     "iopub.status.busy": "2023-09-11T09:36:17.980546Z",
     "iopub.status.idle": "2023-09-11T09:36:17.989247Z",
     "shell.execute_reply": "2023-09-11T09:36:17.988066Z"
    },
    "papermill": {
     "duration": 0.017962,
     "end_time": "2023-09-11T09:36:17.992666",
     "exception": false,
     "start_time": "2023-09-11T09:36:17.974704",
     "status": "completed"
    },
    "tags": []
   },
   "outputs": [
    {
     "name": "stdout",
     "output_type": "stream",
     "text": [
      "[[1 2 3]\n",
      " [4 5 6]]\n"
     ]
    }
   ],
   "source": [
    "#GADHIYA JALPA\n",
    "#216270307103\n",
    "#practical 2.4\n",
    "\n",
    "arr=np.array([[1,2],\n",
    "             [3,4],\n",
    "             [5,6]])\n",
    "reshaped_arr=arr.reshape(2,3)\n",
    "print(reshaped_arr)"
   ]
  },
  {
   "cell_type": "code",
   "execution_count": 3,
   "id": "9c83a113",
   "metadata": {
    "execution": {
     "iopub.execute_input": "2023-09-11T09:36:18.003392Z",
     "iopub.status.busy": "2023-09-11T09:36:18.002603Z",
     "iopub.status.idle": "2023-09-11T09:36:18.010236Z",
     "shell.execute_reply": "2023-09-11T09:36:18.008949Z"
    },
    "papermill": {
     "duration": 0.01568,
     "end_time": "2023-09-11T09:36:18.012548",
     "exception": false,
     "start_time": "2023-09-11T09:36:17.996868",
     "status": "completed"
    },
    "tags": []
   },
   "outputs": [
    {
     "name": "stdout",
     "output_type": "stream",
     "text": [
      "[array([0, 1]), array([2, 3, 4, 5]), array([ 6,  7,  8,  9, 10, 11, 12, 13])]\n"
     ]
    }
   ],
   "source": [
    "#GADHIYA JALPA\n",
    "#216270307103\n",
    "#practical3.1\n",
    "\n",
    "arr=np.arange(14)\n",
    "split_arr=np.split(arr,[2,6])\n",
    "print(split_arr)"
   ]
  },
  {
   "cell_type": "code",
   "execution_count": null,
   "id": "b4fc9823",
   "metadata": {
    "papermill": {
     "duration": 0.004036,
     "end_time": "2023-09-11T09:36:18.020951",
     "exception": false,
     "start_time": "2023-09-11T09:36:18.016915",
     "status": "completed"
    },
    "tags": []
   },
   "outputs": [],
   "source": []
  }
 ],
 "kernelspec": {
  "display_name": "Python 3",
  "language": "python",
  "name": "python3"
 },
 "language_info": {
  "codemirror_mode": {
   "name": "ipython",
   "version": 3
  },
  "file_extension": ".py",
  "mimetype": "text/x-python",
  "name": "python",
  "nbconvert_exporter": "python",
  "pygments_lexer": "ipython3",
  "version": "3.6.4"
 },
 "metadata": {
  "kernelspec": {
   "display_name": "Python 3",
   "language": "python",
   "name": "python3"
  },
  "language_info": {
   "codemirror_mode": {
    "name": "ipython",
    "version": 3
   },
   "file_extension": ".py",
   "mimetype": "text/x-python",
   "name": "python",
   "nbconvert_exporter": "python",
   "pygments_lexer": "ipython3",
   "version": "3.10.12"
  },
  "papermill": {
   "default_parameters": {},
   "duration": 5.044515,
   "end_time": "2023-09-11T09:36:18.546420",
   "environment_variables": {},
   "exception": null,
   "input_path": "__notebook__.ipynb",
   "output_path": "__notebook__.ipynb",
   "parameters": {},
   "start_time": "2023-09-11T09:36:13.501905",
   "version": "2.4.0"
  }
 },
 "nbformat": 4,
 "nbformat_minor": 5
}
